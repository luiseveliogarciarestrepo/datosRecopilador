{
 "cells": [
  {
   "cell_type": "code",
   "execution_count": 1,
   "metadata": {},
   "outputs": [],
   "source": [
    "import pandas as pd"
   ]
  },
  {
   "cell_type": "code",
   "execution_count": 2,
   "metadata": {},
   "outputs": [],
   "source": [
    "%matplotlib inline"
   ]
  },
  {
   "cell_type": "code",
   "execution_count": 3,
   "metadata": {},
   "outputs": [],
   "source": [
    "col = pd.read_csv('CovidColombia.csv', usecols= ['Fecha de notificación',\n",
    "       'Ciudad de ubicación', 'Departamento o Distrito ', 'atención', 'Edad',\n",
    "       'Sexo', 'Tipo', 'Estado', 'País de procedencia',\n",
    "       'Fecha de muerte', 'Fecha diagnostico', 'Fecha recuperado',\n",
    "       'Tipo recuperación'],date_parser= ['Fecha de notificación','Fecha de muerte', 'Fecha diagnostico',\n",
    "       'Fecha recuperado'], low_memory = False)"
   ]
  },
  {
   "cell_type": "code",
   "execution_count": 4,
   "metadata": {},
   "outputs": [],
   "source": [
    "fecha = col['Fecha de notificación'].max()"
   ]
  },
  {
   "cell_type": "code",
   "execution_count": 5,
   "metadata": {},
   "outputs": [
    {
     "data": {
      "text/plain": [
       "'2020-09-2'"
      ]
     },
     "execution_count": 5,
     "metadata": {},
     "output_type": "execute_result"
    }
   ],
   "source": [
    "FECHA = fecha.rstrip('T00:00:00.000')\n",
    "FECHA"
   ]
  },
  {
   "cell_type": "code",
   "execution_count": 6,
   "metadata": {},
   "outputs": [],
   "source": [
    "\n",
    "col[['Fecha de notificación',\n",
    "       'Ciudad de ubicación', 'Departamento o Distrito ', 'atención', 'Edad',\n",
    "       'Sexo', 'Tipo', 'Estado', 'País de procedencia',\n",
    "       'Fecha de muerte', 'Fecha diagnostico', 'Fecha recuperado',\n",
    "       'Tipo recuperación']]=  col[['Fecha de notificación',\n",
    "       'Ciudad de ubicación', 'Departamento o Distrito ', 'atención', 'Edad',\n",
    "       'Sexo', 'Tipo', 'Estado', 'País de procedencia',\n",
    "       'Fecha de muerte', 'Fecha diagnostico', 'Fecha recuperado',\n",
    "       'Tipo recuperación']].astype('category')\n"
   ]
  },
  {
   "cell_type": "code",
   "execution_count": 7,
   "metadata": {},
   "outputs": [],
   "source": [
    "Tasas = col.groupby('Ciudad de ubicación')[['Fecha de notificación','Fecha de muerte']].count()"
   ]
  },
  {
   "cell_type": "code",
   "execution_count": 8,
   "metadata": {},
   "outputs": [],
   "source": [
    "Tasas.rename(columns={'Fecha de notificación': 'Número de casos', 'Fecha de muerte': 'Fallecidos'}, inplace= True)"
   ]
  },
  {
   "cell_type": "code",
   "execution_count": 9,
   "metadata": {},
   "outputs": [],
   "source": [
    "Tasas['Tasa de letalidad por cien habitantes'] = (Tasas['Fallecidos']/Tasas['Número de casos'])*100"
   ]
  },
  {
   "cell_type": "markdown",
   "metadata": {},
   "source": [
    "# Luis Evelio García Restrepo MD, MAS, EF\n",
    "## Seguimiento COVID-19\n",
    "## Pendiente depuración muertes \"por\" o \"con\" COVID-19\n",
    "### Tasas de letalidad y de mortalidad \n"
   ]
  },
  {
   "cell_type": "markdown",
   "metadata": {},
   "source": [
    "#### Área metropolitana, capitales eje cafetero y principales ciudades del país\n",
    "#### Fuentes:   Base de datos Instituto Nacional de Salud Colombiano INS  -   Departamento Administrativo Nacional de Estadística -DANE.\n",
    "#### Período del '2020 - 03 - 02' al "
   ]
  },
  {
   "cell_type": "code",
   "execution_count": 10,
   "metadata": {},
   "outputs": [
    {
     "data": {
      "text/plain": [
       "'2020-09-2'"
      ]
     },
     "execution_count": 10,
     "metadata": {},
     "output_type": "execute_result"
    }
   ],
   "source": [
    "FECHA"
   ]
  },
  {
   "cell_type": "markdown",
   "metadata": {},
   "source": [
    "Tasas.round(2).sort_values(['Tasa de letalidad por cien habitantes'],ascending=False)"
   ]
  },
  {
   "cell_type": "code",
   "execution_count": 11,
   "metadata": {},
   "outputs": [],
   "source": [
    "poblacion= pd.read_csv('Dane2018_2023.csv', usecols= ['Dpto','Municipio','Género','2020'])"
   ]
  },
  {
   "cell_type": "code",
   "execution_count": 12,
   "metadata": {},
   "outputs": [],
   "source": [
    "habitantes = poblacion.loc[poblacion['Género']== 'AMBOS SEXOS', ['Dpto', 'Municipio','2020']].groupby('Municipio')['2020'].sum()\n"
   ]
  },
  {
   "cell_type": "code",
   "execution_count": 13,
   "metadata": {},
   "outputs": [],
   "source": [
    "Tasas['Tasa de mortalidad por cien mil habitantes'] = (Tasas['Fallecidos']/habitantes)*100000"
   ]
  },
  {
   "cell_type": "markdown",
   "metadata": {},
   "source": [
    "# Luis Evelio García Restrepo MD, MAS, EF\n",
    "## Seguimiento COVID-19\n",
    "## Pendiente depuración muertes \"por\" o \"con\" COVID-19\n",
    "### Tasas de letalidad y de mortalidad \n"
   ]
  },
  {
   "cell_type": "markdown",
   "metadata": {},
   "source": [
    "#### Área metropolitana, capitales eje cafetero y principales ciudades del país\n",
    "#### Fuentes:   Base de datos Instituto Nacional de Salud Colombiano INS  -   Departamento Administrativo Nacional de Estadística -DANE.\n",
    "#### Período del '2020 - 03 - 02' al "
   ]
  },
  {
   "cell_type": "code",
   "execution_count": 14,
   "metadata": {},
   "outputs": [
    {
     "data": {
      "text/plain": [
       "'2020-09-2'"
      ]
     },
     "execution_count": 14,
     "metadata": {},
     "output_type": "execute_result"
    }
   ],
   "source": [
    "FECHA"
   ]
  },
  {
   "cell_type": "code",
   "execution_count": 15,
   "metadata": {},
   "outputs": [
    {
     "data": {
      "text/html": [
       "<div>\n",
       "<style scoped>\n",
       "    .dataframe tbody tr th:only-of-type {\n",
       "        vertical-align: middle;\n",
       "    }\n",
       "\n",
       "    .dataframe tbody tr th {\n",
       "        vertical-align: top;\n",
       "    }\n",
       "\n",
       "    .dataframe thead th {\n",
       "        text-align: right;\n",
       "    }\n",
       "</style>\n",
       "<table border=\"1\" class=\"dataframe\">\n",
       "  <thead>\n",
       "    <tr style=\"text-align: right;\">\n",
       "      <th></th>\n",
       "      <th>Número de casos</th>\n",
       "      <th>Fallecidos</th>\n",
       "      <th>Tasa de letalidad por cien habitantes</th>\n",
       "      <th>Tasa de mortalidad por cien mil habitantes</th>\n",
       "    </tr>\n",
       "    <tr>\n",
       "      <th>Ciudad de ubicación</th>\n",
       "      <th></th>\n",
       "      <th></th>\n",
       "      <th></th>\n",
       "      <th></th>\n",
       "    </tr>\n",
       "  </thead>\n",
       "  <tbody>\n",
       "    <tr>\n",
       "      <th>Leticia</th>\n",
       "      <td>2491</td>\n",
       "      <td>109</td>\n",
       "      <td>4.38</td>\n",
       "      <td>219.15</td>\n",
       "    </tr>\n",
       "    <tr>\n",
       "      <th>Montería</th>\n",
       "      <td>13642</td>\n",
       "      <td>828</td>\n",
       "      <td>6.07</td>\n",
       "      <td>163.85</td>\n",
       "    </tr>\n",
       "    <tr>\n",
       "      <th>Tubará</th>\n",
       "      <td>373</td>\n",
       "      <td>30</td>\n",
       "      <td>8.04</td>\n",
       "      <td>159.18</td>\n",
       "    </tr>\n",
       "    <tr>\n",
       "      <th>Puerto Santander</th>\n",
       "      <td>89</td>\n",
       "      <td>14</td>\n",
       "      <td>15.73</td>\n",
       "      <td>151.16</td>\n",
       "    </tr>\n",
       "    <tr>\n",
       "      <th>Barranquilla</th>\n",
       "      <td>37600</td>\n",
       "      <td>1771</td>\n",
       "      <td>4.71</td>\n",
       "      <td>138.98</td>\n",
       "    </tr>\n",
       "    <tr>\n",
       "      <th>...</th>\n",
       "      <td>...</td>\n",
       "      <td>...</td>\n",
       "      <td>...</td>\n",
       "      <td>...</td>\n",
       "    </tr>\n",
       "    <tr>\n",
       "      <th>Villa rica</th>\n",
       "      <td>160</td>\n",
       "      <td>11</td>\n",
       "      <td>6.88</td>\n",
       "      <td>NaN</td>\n",
       "    </tr>\n",
       "    <tr>\n",
       "      <th>Yavaraté</th>\n",
       "      <td>26</td>\n",
       "      <td>0</td>\n",
       "      <td>0.00</td>\n",
       "      <td>NaN</td>\n",
       "    </tr>\n",
       "    <tr>\n",
       "      <th>Ábrego</th>\n",
       "      <td>67</td>\n",
       "      <td>3</td>\n",
       "      <td>4.48</td>\n",
       "      <td>NaN</td>\n",
       "    </tr>\n",
       "    <tr>\n",
       "      <th>Íquira</th>\n",
       "      <td>6</td>\n",
       "      <td>0</td>\n",
       "      <td>0.00</td>\n",
       "      <td>NaN</td>\n",
       "    </tr>\n",
       "    <tr>\n",
       "      <th>Úmbita</th>\n",
       "      <td>17</td>\n",
       "      <td>0</td>\n",
       "      <td>0.00</td>\n",
       "      <td>NaN</td>\n",
       "    </tr>\n",
       "  </tbody>\n",
       "</table>\n",
       "<p>968 rows × 4 columns</p>\n",
       "</div>"
      ],
      "text/plain": [
       "                     Número de casos  Fallecidos  \\\n",
       "Ciudad de ubicación                                \n",
       "Leticia                         2491         109   \n",
       "Montería                       13642         828   \n",
       "Tubará                           373          30   \n",
       "Puerto Santander                  89          14   \n",
       "Barranquilla                   37600        1771   \n",
       "...                              ...         ...   \n",
       "Villa rica                       160          11   \n",
       "Yavaraté                          26           0   \n",
       "Ábrego                            67           3   \n",
       "Íquira                             6           0   \n",
       "Úmbita                            17           0   \n",
       "\n",
       "                     Tasa de letalidad por cien habitantes  \\\n",
       "Ciudad de ubicación                                          \n",
       "Leticia                                               4.38   \n",
       "Montería                                              6.07   \n",
       "Tubará                                                8.04   \n",
       "Puerto Santander                                     15.73   \n",
       "Barranquilla                                          4.71   \n",
       "...                                                    ...   \n",
       "Villa rica                                            6.88   \n",
       "Yavaraté                                              0.00   \n",
       "Ábrego                                                4.48   \n",
       "Íquira                                                0.00   \n",
       "Úmbita                                                0.00   \n",
       "\n",
       "                     Tasa de mortalidad por cien mil habitantes  \n",
       "Ciudad de ubicación                                              \n",
       "Leticia                                                  219.15  \n",
       "Montería                                                 163.85  \n",
       "Tubará                                                   159.18  \n",
       "Puerto Santander                                         151.16  \n",
       "Barranquilla                                             138.98  \n",
       "...                                                         ...  \n",
       "Villa rica                                                  NaN  \n",
       "Yavaraté                                                    NaN  \n",
       "Ábrego                                                      NaN  \n",
       "Íquira                                                      NaN  \n",
       "Úmbita                                                      NaN  \n",
       "\n",
       "[968 rows x 4 columns]"
      ]
     },
     "execution_count": 15,
     "metadata": {},
     "output_type": "execute_result"
    }
   ],
   "source": [
    "Tasas.round(2).sort_values('Tasa de mortalidad por cien mil habitantes', ascending=False)"
   ]
  },
  {
   "cell_type": "code",
   "execution_count": 16,
   "metadata": {
    "scrolled": true
   },
   "outputs": [
    {
     "name": "stdout",
     "output_type": "stream",
     "text": [
      "Ingrese los ciudades para los que requiere conocer la tasa.   Para terminar, digite 'F'   :Pereira\n",
      "Ingrese los ciudades para los que requiere conocer la tasa.   Para terminar, digite 'F'   :f\n"
     ]
    }
   ],
   "source": [
    "ciudades = []\n",
    "munic = ''\n",
    "while munic != 'F' or munic != 'f':\n",
    "    munic = input(\"Ingrese los ciudades para los que requiere conocer la tasa.   Para terminar, digite 'F'   :\")\n",
    "    if munic == 'F' or munic == 'f':\n",
    "        break\n",
    "    else:\n",
    "        if Tasas.index.isin([munic]).any()==True:\n",
    "            ciudades.append(munic)\n",
    "        else:\n",
    "            print('No se encuentra el municamento.  Revise ortografía.  Para Distrito capitales, turísticos o especiales puede requerir D.C., D.E. o D.T.')\n"
   ]
  },
  {
   "cell_type": "code",
   "execution_count": 24,
   "metadata": {},
   "outputs": [
    {
     "data": {
      "text/plain": [
       "['Pereira']"
      ]
     },
     "execution_count": 24,
     "metadata": {},
     "output_type": "execute_result"
    }
   ],
   "source": [
    "ciudades"
   ]
  },
  {
   "cell_type": "markdown",
   "metadata": {},
   "source": [
    "ciudades = ['Manizales', 'Neira', 'Chinchiná', 'Villamaría','La Dorada', 'Pereira', 'Armenia', 'Bogotá D.C.', 'Medellín', \n",
    "            'Cali', 'Bucaramanga', 'Barranquilla','Cúcuta', 'Ibagué']"
   ]
  },
  {
   "cell_type": "code",
   "execution_count": 25,
   "metadata": {},
   "outputs": [
    {
     "data": {
      "text/plain": [
       "Municipio\n",
       "Abejorral         20287\n",
       "Abrego            33931\n",
       "Abriaquí           2735\n",
       "Acacías           91829\n",
       "Acandí            14159\n",
       "                  ...  \n",
       "Zetaquira          4625\n",
       "Zipacón            5022\n",
       "Zipaquirá        146352\n",
       "Zona Bananera     73933\n",
       "Útica              4434\n",
       "Name: 2020, Length: 1040, dtype: int64"
      ]
     },
     "execution_count": 25,
     "metadata": {},
     "output_type": "execute_result"
    }
   ],
   "source": [
    "habitantes"
   ]
  },
  {
   "cell_type": "code",
   "execution_count": 26,
   "metadata": {},
   "outputs": [],
   "source": [
    "poblacion.rename(columns={'2020':'Población'}, inplace=True)"
   ]
  },
  {
   "cell_type": "code",
   "execution_count": 27,
   "metadata": {
    "scrolled": true
   },
   "outputs": [
    {
     "data": {
      "text/plain": [
       "CategoricalIndex(['Abejorral', 'Abriaquí', 'Acacías', 'Acandí', 'Acevedo',\n",
       "                  'Achí', 'Agrado', 'Agua de Dios', 'Aguachica', 'Aguada',\n",
       "                  ...\n",
       "                  'Zaragoza', 'Zarzal', 'Zetaquira', 'Zipacón', 'Zipaquirá',\n",
       "                  'Zona Bananera', 'Ábrego', 'Íquira', 'Úmbita', 'Útica'],\n",
       "                 categories=['Abejorral', 'Abriaquí', 'Acacías', 'Acandí', 'Acevedo', 'Achí', 'Agrado', 'Agua de Dios', ...], ordered=False, name='Ciudad de ubicación', dtype='category', length=968)"
      ]
     },
     "execution_count": 27,
     "metadata": {},
     "output_type": "execute_result"
    }
   ],
   "source": [
    "Tasas.index.unique()"
   ]
  },
  {
   "cell_type": "markdown",
   "metadata": {},
   "source": [
    "# Luis Evelio García Restrepo MD, MAS, EF\n",
    "## Seguimiento COVID-19\n",
    "## Pendiente depuración muertes \"por\" o \"con\" COVID-19\n",
    "### Tasas de letalidad y de mortalidad \n"
   ]
  },
  {
   "cell_type": "markdown",
   "metadata": {},
   "source": [
    "#### Área metropolitana, capitales eje cafetero y principales ciudades del país\n",
    "#### Fuentes:   Base de datos Instituto Nacional de Salud Colombiano INS  -   Departamento Administrativo Nacional de Estadística -DANE.\n",
    "#### Período del '2020 - 03 - 02' al "
   ]
  },
  {
   "cell_type": "code",
   "execution_count": 28,
   "metadata": {},
   "outputs": [
    {
     "data": {
      "text/plain": [
       "'2020-09-2'"
      ]
     },
     "execution_count": 28,
     "metadata": {},
     "output_type": "execute_result"
    }
   ],
   "source": [
    "FECHA"
   ]
  },
  {
   "cell_type": "code",
   "execution_count": 29,
   "metadata": {},
   "outputs": [
    {
     "data": {
      "text/html": [
       "<div>\n",
       "<style scoped>\n",
       "    .dataframe tbody tr th:only-of-type {\n",
       "        vertical-align: middle;\n",
       "    }\n",
       "\n",
       "    .dataframe tbody tr th {\n",
       "        vertical-align: top;\n",
       "    }\n",
       "\n",
       "    .dataframe thead th {\n",
       "        text-align: right;\n",
       "    }\n",
       "</style>\n",
       "<table border=\"1\" class=\"dataframe\">\n",
       "  <thead>\n",
       "    <tr style=\"text-align: right;\">\n",
       "      <th></th>\n",
       "      <th>Dpto</th>\n",
       "      <th>Municipio</th>\n",
       "      <th>Género</th>\n",
       "      <th>Población</th>\n",
       "    </tr>\n",
       "  </thead>\n",
       "  <tbody>\n",
       "    <tr>\n",
       "      <th>0</th>\n",
       "      <td>Antioquia</td>\n",
       "      <td>Medellín</td>\n",
       "      <td>AMBOS SEXOS</td>\n",
       "      <td>2533424</td>\n",
       "    </tr>\n",
       "    <tr>\n",
       "      <th>1</th>\n",
       "      <td>Antioquia</td>\n",
       "      <td>Medellín</td>\n",
       "      <td>HOMBRES</td>\n",
       "      <td>1193791</td>\n",
       "    </tr>\n",
       "    <tr>\n",
       "      <th>2</th>\n",
       "      <td>Antioquia</td>\n",
       "      <td>Medellín</td>\n",
       "      <td>MUJERES</td>\n",
       "      <td>1339633</td>\n",
       "    </tr>\n",
       "    <tr>\n",
       "      <th>3</th>\n",
       "      <td>Antioquia</td>\n",
       "      <td>Abejorral</td>\n",
       "      <td>AMBOS SEXOS</td>\n",
       "      <td>20287</td>\n",
       "    </tr>\n",
       "    <tr>\n",
       "      <th>4</th>\n",
       "      <td>Antioquia</td>\n",
       "      <td>Abejorral</td>\n",
       "      <td>HOMBRES</td>\n",
       "      <td>10558</td>\n",
       "    </tr>\n",
       "    <tr>\n",
       "      <th>...</th>\n",
       "      <td>...</td>\n",
       "      <td>...</td>\n",
       "      <td>...</td>\n",
       "      <td>...</td>\n",
       "    </tr>\n",
       "    <tr>\n",
       "      <th>3364</th>\n",
       "      <td>Vichada</td>\n",
       "      <td>Cumaribo</td>\n",
       "      <td>HOMBRES</td>\n",
       "      <td>41840</td>\n",
       "    </tr>\n",
       "    <tr>\n",
       "      <th>3365</th>\n",
       "      <td>Vichada</td>\n",
       "      <td>Cumaribo</td>\n",
       "      <td>MUJERES</td>\n",
       "      <td>37023</td>\n",
       "    </tr>\n",
       "    <tr>\n",
       "      <th>3366</th>\n",
       "      <td>País_Col</td>\n",
       "      <td>País_Col</td>\n",
       "      <td>AMBOS SEXOS</td>\n",
       "      <td>50372424</td>\n",
       "    </tr>\n",
       "    <tr>\n",
       "      <th>3367</th>\n",
       "      <td>País_Col</td>\n",
       "      <td>País_Col</td>\n",
       "      <td>HOMBRES</td>\n",
       "      <td>24594882</td>\n",
       "    </tr>\n",
       "    <tr>\n",
       "      <th>3368</th>\n",
       "      <td>País_Col</td>\n",
       "      <td>País_Col</td>\n",
       "      <td>MUJERES</td>\n",
       "      <td>25777542</td>\n",
       "    </tr>\n",
       "  </tbody>\n",
       "</table>\n",
       "<p>3369 rows × 4 columns</p>\n",
       "</div>"
      ],
      "text/plain": [
       "           Dpto  Municipio       Género  Población\n",
       "0     Antioquia   Medellín  AMBOS SEXOS    2533424\n",
       "1     Antioquia   Medellín      HOMBRES    1193791\n",
       "2     Antioquia   Medellín      MUJERES    1339633\n",
       "3     Antioquia  Abejorral  AMBOS SEXOS      20287\n",
       "4     Antioquia  Abejorral      HOMBRES      10558\n",
       "...         ...        ...          ...        ...\n",
       "3364    Vichada   Cumaribo      HOMBRES      41840\n",
       "3365    Vichada   Cumaribo      MUJERES      37023\n",
       "3366   País_Col   País_Col  AMBOS SEXOS   50372424\n",
       "3367   País_Col   País_Col      HOMBRES   24594882\n",
       "3368   País_Col   País_Col      MUJERES   25777542\n",
       "\n",
       "[3369 rows x 4 columns]"
      ]
     },
     "execution_count": 29,
     "metadata": {},
     "output_type": "execute_result"
    }
   ],
   "source": [
    "poblacion"
   ]
  },
  {
   "cell_type": "code",
   "execution_count": 23,
   "metadata": {},
   "outputs": [
    {
     "ename": "NameError",
     "evalue": "name 'ciudad' is not defined",
     "output_type": "error",
     "traceback": [
      "\u001b[0;31m---------------------------------------------------------------------------\u001b[0m",
      "\u001b[0;31mNameError\u001b[0m                                 Traceback (most recent call last)",
      "\u001b[0;32m<ipython-input-23-0afad4d98e83>\u001b[0m in \u001b[0;36m<module>\u001b[0;34m\u001b[0m\n\u001b[0;32m----> 1\u001b[0;31m \u001b[0mciudad\u001b[0m\u001b[0;34m.\u001b[0m\u001b[0mplot\u001b[0m\u001b[0;34m(\u001b[0m\u001b[0mkind\u001b[0m\u001b[0;34m=\u001b[0m\u001b[0;34m'bar'\u001b[0m\u001b[0;34m)\u001b[0m\u001b[0;34m\u001b[0m\u001b[0m\n\u001b[0m",
      "\u001b[0;31mNameError\u001b[0m: name 'ciudad' is not defined"
     ]
    }
   ],
   "source": [
    "ciudad.plot(kind='bar')"
   ]
  },
  {
   "cell_type": "code",
   "execution_count": null,
   "metadata": {},
   "outputs": [],
   "source": []
  },
  {
   "cell_type": "code",
   "execution_count": null,
   "metadata": {},
   "outputs": [],
   "source": []
  }
 ],
 "metadata": {
  "hide_input": false,
  "kernelspec": {
   "display_name": "Python 3",
   "language": "python",
   "name": "python3"
  },
  "language_info": {
   "codemirror_mode": {
    "name": "ipython",
    "version": 3
   },
   "file_extension": ".py",
   "mimetype": "text/x-python",
   "name": "python",
   "nbconvert_exporter": "python",
   "pygments_lexer": "ipython3",
   "version": "3.7.0"
  }
 },
 "nbformat": 4,
 "nbformat_minor": 4
}
