{
 "cells": [
  {
   "cell_type": "code",
   "execution_count": 1,
   "metadata": {},
   "outputs": [],
   "source": [
    "import pandas as pd"
   ]
  },
  {
   "cell_type": "code",
   "execution_count": 2,
   "metadata": {},
   "outputs": [],
   "source": [
    "%matplotlib inline"
   ]
  },
  {
   "cell_type": "code",
   "execution_count": 3,
   "metadata": {},
   "outputs": [],
   "source": [
    "col = pd.read_csv('CovidColombia.csv', usecols= ['Fecha de notificación',\n",
    "       'Ciudad de ubicación', 'Departamento o Distrito ', 'atención', 'Edad',\n",
    "       'Sexo', 'Tipo', 'Estado', 'País de procedencia',\n",
    "       'Fecha de muerte', 'Fecha diagnostico', 'Fecha recuperado',\n",
    "       'Tipo recuperación'],date_parser= ['Fecha de notificación','Fecha de muerte', 'Fecha diagnostico',\n",
    "       'Fecha recuperado'], low_memory = False)"
   ]
  },
  {
   "cell_type": "markdown",
   "metadata": {},
   "source": [
    "# Luis Evelio García Restrepo MD, MAS, EF"
   ]
  },
  {
   "cell_type": "markdown",
   "metadata": {},
   "source": [
    "## Seguimiento COVID-19   \n",
    "### Pendiente depuración muertes \"por\" o \"con\" COVID-19"
   ]
  },
  {
   "cell_type": "markdown",
   "metadata": {},
   "source": [
    "### Tasas de letalidad y de mortalidad "
   ]
  },
  {
   "cell_type": "code",
   "execution_count": 4,
   "metadata": {},
   "outputs": [],
   "source": [
    "fecha = col['Fecha de notificación'].max()"
   ]
  },
  {
   "cell_type": "markdown",
   "metadata": {},
   "source": [
    "#### Período del '2020 - 03 - 02' al "
   ]
  },
  {
   "cell_type": "code",
   "execution_count": 5,
   "metadata": {},
   "outputs": [
    {
     "data": {
      "text/plain": [
       "'2020-09-17'"
      ]
     },
     "execution_count": 5,
     "metadata": {},
     "output_type": "execute_result"
    }
   ],
   "source": [
    "FECHA = fecha.rstrip('T00:00:00.000')\n",
    "FECHA\n"
   ]
  },
  {
   "cell_type": "markdown",
   "metadata": {},
   "source": [
    "\n",
    "#### Departamentos de Colombia\n",
    "#### Fuentes:   \n",
    "\n",
    "#### Base de datos Instituto Nacional de Salud Colombiano INS   -  Departamento Administrativo Nacional de Estadística -DANE."
   ]
  },
  {
   "cell_type": "code",
   "execution_count": 6,
   "metadata": {},
   "outputs": [],
   "source": [
    "col[['Fecha de notificación',\n",
    "       'Ciudad de ubicación', 'Departamento o Distrito ', 'atención', 'Edad',\n",
    "       'Sexo', 'Tipo', 'Estado', 'País de procedencia',\n",
    "       'Fecha de muerte', 'Fecha diagnostico', 'Fecha recuperado',\n",
    "       'Tipo recuperación']]=  col[['Fecha de notificación',\n",
    "       'Ciudad de ubicación', 'Departamento o Distrito ', 'atención', 'Edad',\n",
    "       'Sexo', 'Tipo', 'Estado', 'País de procedencia',\n",
    "       'Fecha de muerte', 'Fecha diagnostico', 'Fecha recuperado',\n",
    "       'Tipo recuperación']].astype('category')"
   ]
  },
  {
   "cell_type": "code",
   "execution_count": 7,
   "metadata": {},
   "outputs": [],
   "source": [
    "Tasas = col.groupby('Departamento o Distrito ')[['Fecha de notificación','Fecha de muerte']].count()"
   ]
  },
  {
   "cell_type": "code",
   "execution_count": 8,
   "metadata": {},
   "outputs": [],
   "source": [
    "Tasas.rename(columns={'Fecha de notificación': 'Número de casos', 'Fecha de muerte': 'Fallecidos'}, inplace= True)"
   ]
  },
  {
   "cell_type": "code",
   "execution_count": 9,
   "metadata": {},
   "outputs": [],
   "source": [
    "Tasas['Tasa de letalidad por cien enfermos'] = (Tasas['Fallecidos']/Tasas['Número de casos'])*100"
   ]
  },
  {
   "cell_type": "code",
   "execution_count": 10,
   "metadata": {},
   "outputs": [],
   "source": [
    "poblacion= pd.read_csv('Dane2018_2023.csv', usecols= ['Dpto','Municipio','Género','2020'])"
   ]
  },
  {
   "cell_type": "code",
   "execution_count": 11,
   "metadata": {},
   "outputs": [],
   "source": [
    "habitantes = poblacion.loc[poblacion['Género']== 'AMBOS SEXOS', ['Dpto', 'Municipio','2020']].groupby('Dpto')['2020'].sum()\n"
   ]
  },
  {
   "cell_type": "code",
   "execution_count": 12,
   "metadata": {},
   "outputs": [],
   "source": [
    "Tasas['Tasa de mortalidad por millón de habitantes'] = (Tasas['Fallecidos']/habitantes)*1000000"
   ]
  },
  {
   "cell_type": "code",
   "execution_count": 13,
   "metadata": {},
   "outputs": [
    {
     "data": {
      "text/html": [
       "<div>\n",
       "<style scoped>\n",
       "    .dataframe tbody tr th:only-of-type {\n",
       "        vertical-align: middle;\n",
       "    }\n",
       "\n",
       "    .dataframe tbody tr th {\n",
       "        vertical-align: top;\n",
       "    }\n",
       "\n",
       "    .dataframe thead th {\n",
       "        text-align: right;\n",
       "    }\n",
       "</style>\n",
       "<table border=\"1\" class=\"dataframe\">\n",
       "  <thead>\n",
       "    <tr style=\"text-align: right;\">\n",
       "      <th></th>\n",
       "      <th>Número de casos</th>\n",
       "      <th>Fallecidos</th>\n",
       "      <th>Tasa de letalidad por cien enfermos</th>\n",
       "      <th>Tasa de mortalidad por millón de habitantes</th>\n",
       "    </tr>\n",
       "    <tr>\n",
       "      <th>Departamento o Distrito</th>\n",
       "      <th></th>\n",
       "      <th></th>\n",
       "      <th></th>\n",
       "      <th></th>\n",
       "    </tr>\n",
       "  </thead>\n",
       "  <tbody>\n",
       "    <tr>\n",
       "      <th>Amazonas</th>\n",
       "      <td>2728</td>\n",
       "      <td>120</td>\n",
       "      <td>4.40</td>\n",
       "      <td>1518.60</td>\n",
       "    </tr>\n",
       "    <tr>\n",
       "      <th>Barranquilla D.E.</th>\n",
       "      <td>37392</td>\n",
       "      <td>1758</td>\n",
       "      <td>4.70</td>\n",
       "      <td>1379.64</td>\n",
       "    </tr>\n",
       "    <tr>\n",
       "      <th>Atlántico</th>\n",
       "      <td>28904</td>\n",
       "      <td>1433</td>\n",
       "      <td>4.96</td>\n",
       "      <td>989.72</td>\n",
       "    </tr>\n",
       "    <tr>\n",
       "      <th>Bogotá D.C.</th>\n",
       "      <td>247233</td>\n",
       "      <td>6826</td>\n",
       "      <td>2.76</td>\n",
       "      <td>881.46</td>\n",
       "    </tr>\n",
       "    <tr>\n",
       "      <th>Córdoba</th>\n",
       "      <td>22452</td>\n",
       "      <td>1583</td>\n",
       "      <td>7.05</td>\n",
       "      <td>865.53</td>\n",
       "    </tr>\n",
       "    <tr>\n",
       "      <th>Santa Marta D.T. y C.</th>\n",
       "      <td>9504</td>\n",
       "      <td>428</td>\n",
       "      <td>4.50</td>\n",
       "      <td>794.64</td>\n",
       "    </tr>\n",
       "    <tr>\n",
       "      <th>Caquetá</th>\n",
       "      <td>7387</td>\n",
       "      <td>287</td>\n",
       "      <td>3.89</td>\n",
       "      <td>699.11</td>\n",
       "    </tr>\n",
       "    <tr>\n",
       "      <th>Sucre</th>\n",
       "      <td>13417</td>\n",
       "      <td>573</td>\n",
       "      <td>4.27</td>\n",
       "      <td>603.63</td>\n",
       "    </tr>\n",
       "    <tr>\n",
       "      <th>Cartagena D.T. y C.</th>\n",
       "      <td>22282</td>\n",
       "      <td>570</td>\n",
       "      <td>2.56</td>\n",
       "      <td>554.08</td>\n",
       "    </tr>\n",
       "    <tr>\n",
       "      <th>Buenaventura D.E.</th>\n",
       "      <td>2531</td>\n",
       "      <td>168</td>\n",
       "      <td>6.64</td>\n",
       "      <td>538.76</td>\n",
       "    </tr>\n",
       "    <tr>\n",
       "      <th>Norte de Santander</th>\n",
       "      <td>14112</td>\n",
       "      <td>847</td>\n",
       "      <td>6.00</td>\n",
       "      <td>522.74</td>\n",
       "    </tr>\n",
       "    <tr>\n",
       "      <th>Santander</th>\n",
       "      <td>26296</td>\n",
       "      <td>1172</td>\n",
       "      <td>4.46</td>\n",
       "      <td>513.83</td>\n",
       "    </tr>\n",
       "    <tr>\n",
       "      <th>Valle del Cauca</th>\n",
       "      <td>53165</td>\n",
       "      <td>2032</td>\n",
       "      <td>3.82</td>\n",
       "      <td>481.48</td>\n",
       "    </tr>\n",
       "    <tr>\n",
       "      <th>Magdalena</th>\n",
       "      <td>4755</td>\n",
       "      <td>409</td>\n",
       "      <td>8.60</td>\n",
       "      <td>460.37</td>\n",
       "    </tr>\n",
       "    <tr>\n",
       "      <th>Putumayo</th>\n",
       "      <td>3502</td>\n",
       "      <td>163</td>\n",
       "      <td>4.65</td>\n",
       "      <td>453.88</td>\n",
       "    </tr>\n",
       "    <tr>\n",
       "      <th>Nariño</th>\n",
       "      <td>16531</td>\n",
       "      <td>673</td>\n",
       "      <td>4.07</td>\n",
       "      <td>413.50</td>\n",
       "    </tr>\n",
       "    <tr>\n",
       "      <th>Cesar</th>\n",
       "      <td>16649</td>\n",
       "      <td>503</td>\n",
       "      <td>3.02</td>\n",
       "      <td>388.30</td>\n",
       "    </tr>\n",
       "    <tr>\n",
       "      <th>Meta</th>\n",
       "      <td>13518</td>\n",
       "      <td>372</td>\n",
       "      <td>2.75</td>\n",
       "      <td>349.80</td>\n",
       "    </tr>\n",
       "    <tr>\n",
       "      <th>Antioquia</th>\n",
       "      <td>100831</td>\n",
       "      <td>2311</td>\n",
       "      <td>2.29</td>\n",
       "      <td>346.07</td>\n",
       "    </tr>\n",
       "    <tr>\n",
       "      <th>Chocó</th>\n",
       "      <td>3900</td>\n",
       "      <td>166</td>\n",
       "      <td>4.26</td>\n",
       "      <td>304.72</td>\n",
       "    </tr>\n",
       "    <tr>\n",
       "      <th>La Guajira</th>\n",
       "      <td>7057</td>\n",
       "      <td>285</td>\n",
       "      <td>4.04</td>\n",
       "      <td>295.12</td>\n",
       "    </tr>\n",
       "    <tr>\n",
       "      <th>Cundinamarca</th>\n",
       "      <td>29851</td>\n",
       "      <td>919</td>\n",
       "      <td>3.08</td>\n",
       "      <td>283.38</td>\n",
       "    </tr>\n",
       "    <tr>\n",
       "      <th>Huila</th>\n",
       "      <td>8756</td>\n",
       "      <td>282</td>\n",
       "      <td>3.22</td>\n",
       "      <td>251.20</td>\n",
       "    </tr>\n",
       "    <tr>\n",
       "      <th>Tolima</th>\n",
       "      <td>10332</td>\n",
       "      <td>311</td>\n",
       "      <td>3.01</td>\n",
       "      <td>232.09</td>\n",
       "    </tr>\n",
       "    <tr>\n",
       "      <th>Risaralda</th>\n",
       "      <td>9105</td>\n",
       "      <td>201</td>\n",
       "      <td>2.21</td>\n",
       "      <td>209.15</td>\n",
       "    </tr>\n",
       "    <tr>\n",
       "      <th>Bolívar</th>\n",
       "      <td>5518</td>\n",
       "      <td>234</td>\n",
       "      <td>4.24</td>\n",
       "      <td>203.08</td>\n",
       "    </tr>\n",
       "    <tr>\n",
       "      <th>Guainía</th>\n",
       "      <td>500</td>\n",
       "      <td>10</td>\n",
       "      <td>2.00</td>\n",
       "      <td>197.49</td>\n",
       "    </tr>\n",
       "    <tr>\n",
       "      <th>Cauca</th>\n",
       "      <td>7866</td>\n",
       "      <td>248</td>\n",
       "      <td>3.15</td>\n",
       "      <td>166.23</td>\n",
       "    </tr>\n",
       "    <tr>\n",
       "      <th>Archipiélago de San Andrés Providencia y Santa Catalina</th>\n",
       "      <td>697</td>\n",
       "      <td>9</td>\n",
       "      <td>1.29</td>\n",
       "      <td>141.31</td>\n",
       "    </tr>\n",
       "    <tr>\n",
       "      <th>Guaviare</th>\n",
       "      <td>588</td>\n",
       "      <td>12</td>\n",
       "      <td>2.04</td>\n",
       "      <td>138.48</td>\n",
       "    </tr>\n",
       "    <tr>\n",
       "      <th>Quindío</th>\n",
       "      <td>2368</td>\n",
       "      <td>74</td>\n",
       "      <td>3.12</td>\n",
       "      <td>133.24</td>\n",
       "    </tr>\n",
       "    <tr>\n",
       "      <th>Arauca</th>\n",
       "      <td>1404</td>\n",
       "      <td>35</td>\n",
       "      <td>2.49</td>\n",
       "      <td>118.96</td>\n",
       "    </tr>\n",
       "    <tr>\n",
       "      <th>Caldas</th>\n",
       "      <td>4380</td>\n",
       "      <td>120</td>\n",
       "      <td>2.74</td>\n",
       "      <td>117.83</td>\n",
       "    </tr>\n",
       "    <tr>\n",
       "      <th>Vaupés</th>\n",
       "      <td>642</td>\n",
       "      <td>5</td>\n",
       "      <td>0.78</td>\n",
       "      <td>111.83</td>\n",
       "    </tr>\n",
       "    <tr>\n",
       "      <th>Boyacá</th>\n",
       "      <td>5763</td>\n",
       "      <td>131</td>\n",
       "      <td>2.27</td>\n",
       "      <td>105.41</td>\n",
       "    </tr>\n",
       "    <tr>\n",
       "      <th>Casanare</th>\n",
       "      <td>1690</td>\n",
       "      <td>43</td>\n",
       "      <td>2.54</td>\n",
       "      <td>98.81</td>\n",
       "    </tr>\n",
       "    <tr>\n",
       "      <th>Vichada</th>\n",
       "      <td>339</td>\n",
       "      <td>4</td>\n",
       "      <td>1.18</td>\n",
       "      <td>35.41</td>\n",
       "    </tr>\n",
       "  </tbody>\n",
       "</table>\n",
       "</div>"
      ],
      "text/plain": [
       "                                                    Número de casos  \\\n",
       "Departamento o Distrito                                               \n",
       "Amazonas                                                       2728   \n",
       "Barranquilla D.E.                                             37392   \n",
       "Atlántico                                                     28904   \n",
       "Bogotá D.C.                                                  247233   \n",
       "Córdoba                                                       22452   \n",
       "Santa Marta D.T. y C.                                          9504   \n",
       "Caquetá                                                        7387   \n",
       "Sucre                                                         13417   \n",
       "Cartagena D.T. y C.                                           22282   \n",
       "Buenaventura D.E.                                              2531   \n",
       "Norte de Santander                                            14112   \n",
       "Santander                                                     26296   \n",
       "Valle del Cauca                                               53165   \n",
       "Magdalena                                                      4755   \n",
       "Putumayo                                                       3502   \n",
       "Nariño                                                        16531   \n",
       "Cesar                                                         16649   \n",
       "Meta                                                          13518   \n",
       "Antioquia                                                    100831   \n",
       "Chocó                                                          3900   \n",
       "La Guajira                                                     7057   \n",
       "Cundinamarca                                                  29851   \n",
       "Huila                                                          8756   \n",
       "Tolima                                                        10332   \n",
       "Risaralda                                                      9105   \n",
       "Bolívar                                                        5518   \n",
       "Guainía                                                         500   \n",
       "Cauca                                                          7866   \n",
       "Archipiélago de San Andrés Providencia y Santa ...              697   \n",
       "Guaviare                                                        588   \n",
       "Quindío                                                        2368   \n",
       "Arauca                                                         1404   \n",
       "Caldas                                                         4380   \n",
       "Vaupés                                                          642   \n",
       "Boyacá                                                         5763   \n",
       "Casanare                                                       1690   \n",
       "Vichada                                                         339   \n",
       "\n",
       "                                                    Fallecidos  \\\n",
       "Departamento o Distrito                                          \n",
       "Amazonas                                                   120   \n",
       "Barranquilla D.E.                                         1758   \n",
       "Atlántico                                                 1433   \n",
       "Bogotá D.C.                                               6826   \n",
       "Córdoba                                                   1583   \n",
       "Santa Marta D.T. y C.                                      428   \n",
       "Caquetá                                                    287   \n",
       "Sucre                                                      573   \n",
       "Cartagena D.T. y C.                                        570   \n",
       "Buenaventura D.E.                                          168   \n",
       "Norte de Santander                                         847   \n",
       "Santander                                                 1172   \n",
       "Valle del Cauca                                           2032   \n",
       "Magdalena                                                  409   \n",
       "Putumayo                                                   163   \n",
       "Nariño                                                     673   \n",
       "Cesar                                                      503   \n",
       "Meta                                                       372   \n",
       "Antioquia                                                 2311   \n",
       "Chocó                                                      166   \n",
       "La Guajira                                                 285   \n",
       "Cundinamarca                                               919   \n",
       "Huila                                                      282   \n",
       "Tolima                                                     311   \n",
       "Risaralda                                                  201   \n",
       "Bolívar                                                    234   \n",
       "Guainía                                                     10   \n",
       "Cauca                                                      248   \n",
       "Archipiélago de San Andrés Providencia y Santa ...           9   \n",
       "Guaviare                                                    12   \n",
       "Quindío                                                     74   \n",
       "Arauca                                                      35   \n",
       "Caldas                                                     120   \n",
       "Vaupés                                                       5   \n",
       "Boyacá                                                     131   \n",
       "Casanare                                                    43   \n",
       "Vichada                                                      4   \n",
       "\n",
       "                                                    Tasa de letalidad por cien enfermos  \\\n",
       "Departamento o Distrito                                                                   \n",
       "Amazonas                                                                           4.40   \n",
       "Barranquilla D.E.                                                                  4.70   \n",
       "Atlántico                                                                          4.96   \n",
       "Bogotá D.C.                                                                        2.76   \n",
       "Córdoba                                                                            7.05   \n",
       "Santa Marta D.T. y C.                                                              4.50   \n",
       "Caquetá                                                                            3.89   \n",
       "Sucre                                                                              4.27   \n",
       "Cartagena D.T. y C.                                                                2.56   \n",
       "Buenaventura D.E.                                                                  6.64   \n",
       "Norte de Santander                                                                 6.00   \n",
       "Santander                                                                          4.46   \n",
       "Valle del Cauca                                                                    3.82   \n",
       "Magdalena                                                                          8.60   \n",
       "Putumayo                                                                           4.65   \n",
       "Nariño                                                                             4.07   \n",
       "Cesar                                                                              3.02   \n",
       "Meta                                                                               2.75   \n",
       "Antioquia                                                                          2.29   \n",
       "Chocó                                                                              4.26   \n",
       "La Guajira                                                                         4.04   \n",
       "Cundinamarca                                                                       3.08   \n",
       "Huila                                                                              3.22   \n",
       "Tolima                                                                             3.01   \n",
       "Risaralda                                                                          2.21   \n",
       "Bolívar                                                                            4.24   \n",
       "Guainía                                                                            2.00   \n",
       "Cauca                                                                              3.15   \n",
       "Archipiélago de San Andrés Providencia y Santa ...                                 1.29   \n",
       "Guaviare                                                                           2.04   \n",
       "Quindío                                                                            3.12   \n",
       "Arauca                                                                             2.49   \n",
       "Caldas                                                                             2.74   \n",
       "Vaupés                                                                             0.78   \n",
       "Boyacá                                                                             2.27   \n",
       "Casanare                                                                           2.54   \n",
       "Vichada                                                                            1.18   \n",
       "\n",
       "                                                    Tasa de mortalidad por millón de habitantes  \n",
       "Departamento o Distrito                                                                          \n",
       "Amazonas                                                                                1518.60  \n",
       "Barranquilla D.E.                                                                       1379.64  \n",
       "Atlántico                                                                                989.72  \n",
       "Bogotá D.C.                                                                              881.46  \n",
       "Córdoba                                                                                  865.53  \n",
       "Santa Marta D.T. y C.                                                                    794.64  \n",
       "Caquetá                                                                                  699.11  \n",
       "Sucre                                                                                    603.63  \n",
       "Cartagena D.T. y C.                                                                      554.08  \n",
       "Buenaventura D.E.                                                                        538.76  \n",
       "Norte de Santander                                                                       522.74  \n",
       "Santander                                                                                513.83  \n",
       "Valle del Cauca                                                                          481.48  \n",
       "Magdalena                                                                                460.37  \n",
       "Putumayo                                                                                 453.88  \n",
       "Nariño                                                                                   413.50  \n",
       "Cesar                                                                                    388.30  \n",
       "Meta                                                                                     349.80  \n",
       "Antioquia                                                                                346.07  \n",
       "Chocó                                                                                    304.72  \n",
       "La Guajira                                                                               295.12  \n",
       "Cundinamarca                                                                             283.38  \n",
       "Huila                                                                                    251.20  \n",
       "Tolima                                                                                   232.09  \n",
       "Risaralda                                                                                209.15  \n",
       "Bolívar                                                                                  203.08  \n",
       "Guainía                                                                                  197.49  \n",
       "Cauca                                                                                    166.23  \n",
       "Archipiélago de San Andrés Providencia y Santa ...                                       141.31  \n",
       "Guaviare                                                                                 138.48  \n",
       "Quindío                                                                                  133.24  \n",
       "Arauca                                                                                   118.96  \n",
       "Caldas                                                                                   117.83  \n",
       "Vaupés                                                                                   111.83  \n",
       "Boyacá                                                                                   105.41  \n",
       "Casanare                                                                                  98.81  \n",
       "Vichada                                                                                   35.41  "
      ]
     },
     "execution_count": 13,
     "metadata": {},
     "output_type": "execute_result"
    }
   ],
   "source": [
    "Tasas.round(2).sort_values('Tasa de mortalidad por millón de habitantes', ascending=False)"
   ]
  },
  {
   "cell_type": "markdown",
   "metadata": {},
   "source": [
    "# Luis Evelio García Restrepo MD, MAS, EF"
   ]
  },
  {
   "cell_type": "markdown",
   "metadata": {},
   "source": [
    "## Seguimiento COVID-19   \n",
    "### Pendiente depuración muertes \"por\" o \"con\" COVID-19"
   ]
  },
  {
   "cell_type": "markdown",
   "metadata": {},
   "source": [
    "### Tasa de Mortalidad por millón de habitantes por departamentos"
   ]
  },
  {
   "cell_type": "markdown",
   "metadata": {},
   "source": [
    "#### Período del '2020 - 03 - 02' al "
   ]
  },
  {
   "cell_type": "code",
   "execution_count": 14,
   "metadata": {},
   "outputs": [
    {
     "data": {
      "text/plain": [
       "'2020-09-17'"
      ]
     },
     "execution_count": 14,
     "metadata": {},
     "output_type": "execute_result"
    }
   ],
   "source": [
    "FECHA"
   ]
  },
  {
   "cell_type": "code",
   "execution_count": 15,
   "metadata": {},
   "outputs": [
    {
     "data": {
      "text/plain": [
       "<matplotlib.axes._subplots.AxesSubplot at 0x107796da0>"
      ]
     },
     "execution_count": 15,
     "metadata": {},
     "output_type": "execute_result"
    },
    {
     "data": {
      "image/png": "[encoded data removed]",
      "text/plain": [
       "<Figure size 432x288 with 1 Axes>"
      ]
     },
     "metadata": {
      "needs_background": "light"
     },
     "output_type": "display_data"
    }
   ],
   "source": [
    "Tasas.loc[:,'Tasa de mortalidad por millón de habitantes'].sort_values(ascending=False).plot(kind='bar')"
   ]
  },
  {
   "cell_type": "code",
   "execution_count": 16,
   "metadata": {},
   "outputs": [
    {
     "name": "stdout",
     "output_type": "stream",
     "text": [
      "Ingrese los departamentos para los que requiere conocer la tasa.   Para terminar, digite 'F'   :Caldas\n",
      "Ingrese los departamentos para los que requiere conocer la tasa.   Para terminar, digite 'F'   :Quindío \n",
      "No se encuentra el departamento.  Revise ortografía.  Para Distrito capitales, turísticos o especiales puede requerir D.C., D.E. o D.T.\n",
      "Ingrese los departamentos para los que requiere conocer la tasa.   Para terminar, digite 'F'   :Quindío\n",
      "Ingrese los departamentos para los que requiere conocer la tasa.   Para terminar, digite 'F'   :Risaralda\n",
      "Ingrese los departamentos para los que requiere conocer la tasa.   Para terminar, digite 'F'   :f\n"
     ]
    }
   ],
   "source": [
    "departamentos = []\n",
    "dept = ''\n",
    "while dept != 'F' or dept != 'f':\n",
    "    dept = input(\"Ingrese los departamentos para los que requiere conocer la tasa.   Para terminar, digite 'F'   :\")\n",
    "    if dept == 'F' or dept == 'f':\n",
    "        break\n",
    "    else:\n",
    "        if Tasas.index.isin([dept]).any()==True:\n",
    "            departamentos.append(dept)\n",
    "        else:\n",
    "            print('No se encuentra el departamento.  Revise ortografía.  Para Distrito capitales, turísticos o especiales puede requerir D.C., D.E. o D.T.')\n"
   ]
  },
  {
   "cell_type": "code",
   "execution_count": 17,
   "metadata": {},
   "outputs": [],
   "source": [
    "departamento = pd.concat([Tasas,habitantes], axis=1).loc[departamentos,:].round(2)\n",
    "cuadro_dptos = departamento"
   ]
  },
  {
   "cell_type": "markdown",
   "metadata": {},
   "source": [
    "# Luis Evelio García Restrepo MD, MAS, EF"
   ]
  },
  {
   "cell_type": "markdown",
   "metadata": {},
   "source": [
    "## Seguimiento COVID-19   \n",
    "### Pendiente depuración muertes \"por\" o \"con\" COVID-19"
   ]
  },
  {
   "cell_type": "markdown",
   "metadata": {},
   "source": [
    "### Tasas de letalidad y de mortalidad"
   ]
  },
  {
   "cell_type": "markdown",
   "metadata": {},
   "source": [
    "#### Período del '2020 - 03 - 02' al "
   ]
  },
  {
   "cell_type": "code",
   "execution_count": 18,
   "metadata": {},
   "outputs": [
    {
     "data": {
      "text/plain": [
       "'2020-09-17'"
      ]
     },
     "execution_count": 18,
     "metadata": {},
     "output_type": "execute_result"
    }
   ],
   "source": [
    "FECHA"
   ]
  },
  {
   "cell_type": "markdown",
   "metadata": {},
   "source": [
    "\n",
    "#### Selección Departamentos de Colombia\n",
    "#### Fuentes:   \n",
    "\n",
    "#### Base de datos Instituto Nacional de Salud Colombiano INS   -  Departamento Administrativo Nacional de Estadística -DANE."
   ]
  },
  {
   "cell_type": "code",
   "execution_count": 19,
   "metadata": {},
   "outputs": [],
   "source": [
    "cuadro_dptos.rename(columns={'2020':'Población'}, inplace=True)"
   ]
  },
  {
   "cell_type": "code",
   "execution_count": 20,
   "metadata": {},
   "outputs": [
    {
     "data": {
      "text/html": [
       "<div>\n",
       "<style scoped>\n",
       "    .dataframe tbody tr th:only-of-type {\n",
       "        vertical-align: middle;\n",
       "    }\n",
       "\n",
       "    .dataframe tbody tr th {\n",
       "        vertical-align: top;\n",
       "    }\n",
       "\n",
       "    .dataframe thead th {\n",
       "        text-align: right;\n",
       "    }\n",
       "</style>\n",
       "<table border=\"1\" class=\"dataframe\">\n",
       "  <thead>\n",
       "    <tr style=\"text-align: right;\">\n",
       "      <th></th>\n",
       "      <th>Número de casos</th>\n",
       "      <th>Fallecidos</th>\n",
       "      <th>Tasa de letalidad por cien enfermos</th>\n",
       "      <th>Tasa de mortalidad por millón de habitantes</th>\n",
       "      <th>Población</th>\n",
       "    </tr>\n",
       "  </thead>\n",
       "  <tbody>\n",
       "    <tr>\n",
       "      <th>Risaralda</th>\n",
       "      <td>9105.0</td>\n",
       "      <td>201.0</td>\n",
       "      <td>2.21</td>\n",
       "      <td>209.15</td>\n",
       "      <td>961055</td>\n",
       "    </tr>\n",
       "    <tr>\n",
       "      <th>Quindío</th>\n",
       "      <td>2368.0</td>\n",
       "      <td>74.0</td>\n",
       "      <td>3.12</td>\n",
       "      <td>133.24</td>\n",
       "      <td>555401</td>\n",
       "    </tr>\n",
       "    <tr>\n",
       "      <th>Caldas</th>\n",
       "      <td>4380.0</td>\n",
       "      <td>120.0</td>\n",
       "      <td>2.74</td>\n",
       "      <td>117.83</td>\n",
       "      <td>1018453</td>\n",
       "    </tr>\n",
       "  </tbody>\n",
       "</table>\n",
       "</div>"
      ],
      "text/plain": [
       "           Número de casos  Fallecidos  Tasa de letalidad por cien enfermos  \\\n",
       "Risaralda           9105.0       201.0                                 2.21   \n",
       "Quindío             2368.0        74.0                                 3.12   \n",
       "Caldas              4380.0       120.0                                 2.74   \n",
       "\n",
       "           Tasa de mortalidad por millón de habitantes  Población  \n",
       "Risaralda                                       209.15     961055  \n",
       "Quindío                                         133.24     555401  \n",
       "Caldas                                          117.83    1018453  "
      ]
     },
     "execution_count": 20,
     "metadata": {},
     "output_type": "execute_result"
    }
   ],
   "source": [
    "cuadro_dptos.sort_values('Tasa de mortalidad por millón de habitantes', ascending=False, inplace=True)\n",
    "cuadro_dptos"
   ]
  },
  {
   "cell_type": "code",
   "execution_count": 21,
   "metadata": {},
   "outputs": [
    {
     "data": {
      "text/plain": [
       "<matplotlib.axes._subplots.AxesSubplot at 0x1129fef98>"
      ]
     },
     "execution_count": 21,
     "metadata": {},
     "output_type": "execute_result"
    },
    {
     "data": {
      "image/png": "[encoded data removed]",
      "text/plain": [
       "<Figure size 432x288 with 1 Axes>"
      ]
     },
     "metadata": {
      "needs_background": "light"
     },
     "output_type": "display_data"
    }
   ],
   "source": [
    "cuadro_dptos.loc[:,'Tasa de mortalidad por millón de habitantes'].sort_values(ascending=False).plot(kind='bar')"
   ]
  },
  {
   "cell_type": "code",
   "execution_count": null,
   "metadata": {},
   "outputs": [],
   "source": []
  }
 ],
 "metadata": {
  "hide_input": true,
  "kernelspec": {
   "display_name": "Python 3",
   "language": "python",
   "name": "python3"
  },
  "language_info": {
   "codemirror_mode": {
    "name": "ipython",
    "version": 3
   },
   "file_extension": ".py",
   "mimetype": "text/x-python",
   "name": "python",
   "nbconvert_exporter": "python",
   "pygments_lexer": "ipython3",
   "version": "3.7.0"
  }
 },
 "nbformat": 4,
 "nbformat_minor": 4
}
